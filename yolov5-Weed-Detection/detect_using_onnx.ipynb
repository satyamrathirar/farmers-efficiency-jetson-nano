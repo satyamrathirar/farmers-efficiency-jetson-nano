{
 "cells": [
  {
   "cell_type": "code",
   "execution_count": null,
   "id": "714881bf-56b2-4ec0-8bb7-d3ade743b314",
   "metadata": {},
   "outputs": [
    {
     "ename": "ModuleNotFoundError",
     "evalue": "No module named 'onnxruntime'",
     "output_type": "error",
     "traceback": [
      "\u001b[31m---------------------------------------------------------------------------\u001b[39m",
      "\u001b[31mModuleNotFoundError\u001b[39m                       Traceback (most recent call last)",
      "\u001b[36mCell\u001b[39m\u001b[36m \u001b[39m\u001b[32mIn[2]\u001b[39m\u001b[32m, line 1\u001b[39m\n\u001b[32m----> \u001b[39m\u001b[32m1\u001b[39m \u001b[38;5;28;01mimport\u001b[39;00m\u001b[38;5;250m \u001b[39m\u001b[34;01monnxruntime\u001b[39;00m\u001b[38;5;250m \u001b[39m\u001b[38;5;28;01mas\u001b[39;00m\u001b[38;5;250m \u001b[39m\u001b[34;01mort\u001b[39;00m\n\u001b[32m      2\u001b[39m \u001b[38;5;28;01mimport\u001b[39;00m\u001b[38;5;250m \u001b[39m\u001b[34;01mnumpy\u001b[39;00m\u001b[38;5;250m \u001b[39m\u001b[38;5;28;01mas\u001b[39;00m\u001b[38;5;250m \u001b[39m\u001b[34;01mnp\u001b[39;00m\n\u001b[32m      3\u001b[39m \u001b[38;5;28;01mimport\u001b[39;00m\u001b[38;5;250m \u001b[39m\u001b[34;01mcv2\u001b[39;00m\n",
      "\u001b[31mModuleNotFoundError\u001b[39m: No module named 'onnxruntime'"
     ]
    }
   ],
   "source": [
    "import cv2\n",
    "import numpy as np\n",
    "import matplotlib.pyplot as plt\n",
    "\n",
    "# Load ONNX model using OpenCV DNN\n",
    "net = cv2.dnn.readNetFromONNX(\"best.onnx\")\n",
    "net.setPreferableBackend(cv2.dnn.DNN_BACKEND_CUDA)   # Enable CUDA on Jetson\n",
    "net.setPreferableTarget(cv2.dnn.DNN_TARGET_CUDA)\n",
    "\n",
    "# Class labels (update if you have different classes)\n",
    "class_names = ['herb paris', 'karela', 'small weed', 'grass', 'tori', 'horseweed', 'Bhindi', 'weed']\n",
    "\n",
    "# Load and preprocess image\n",
    "img_path = \"images/1.jpg\"\n",
    "image = cv2.imread(img_path)\n",
    "image_resized = cv2.resize(image, (640, 640))\n",
    "blob = cv2.dnn.blobFromImage(image_resized, scalefactor=1/255.0, size=(640, 640), swapRB=True, crop=False)\n",
    "net.setInput(blob)\n",
    "\n",
    "# Run inference\n",
    "outputs = net.forward()\n",
    "\n",
    "# Postprocess\n",
    "results = []\n",
    "conf_thres = 0.25\n",
    "nms_thres = 0.45\n",
    "\n",
    "preds = outputs[0]  # shape: (25200, 85)\n",
    "for pred in preds:\n",
    "    cx, cy, w, h = pred[0:4]\n",
    "    obj_conf = pred[4]\n",
    "    class_probs = pred[5:]\n",
    "    class_id = np.argmax(class_probs)\n",
    "    class_score = class_probs[class_id]\n",
    "    conf = obj_conf * class_score\n",
    "\n",
    "    if conf > conf_thres:\n",
    "        x = int((cx - w / 2) * image.shape[1] / 640)\n",
    "        y = int((cy - h / 2) * image.shape[0] / 640)\n",
    "        w = int(w * image.shape[1] / 640)\n",
    "        h = int(h * image.shape[0] / 640)\n",
    "        results.append([x, y, w, h, conf, class_id])\n",
    "\n",
    "# Apply NMS\n",
    "boxes = [r[:4] for r in results]\n",
    "scores = [r[4] for r in results]\n",
    "indices = cv2.dnn.NMSBoxes(boxes, scores, score_threshold=conf_thres, nms_threshold=nms_thres)\n",
    "\n",
    "# Draw results\n",
    "for i in indices:\n",
    "    i = i[0] if isinstance(i, (tuple, list, np.ndarray)) else i\n",
    "    x, y, w, h, conf, cls_id = results[i]\n",
    "    label = f\"{class_names[cls_id]}: {conf:.2f}\"\n",
    "    cv2.rectangle(image, (x, y), (x + w, y + h), (0, 255, 0), 2)\n",
    "    cv2.putText(image, label, (x, y - 10), cv2.FONT_HERSHEY_SIMPLEX, 0.5, (0, 0, 0), 2)\n",
    "\n",
    "# Convert to RGB and show in notebook\n",
    "image_rgb = cv2.cvtColor(image, cv2.COLOR_BGR2RGB)\n",
    "plt.figure(figsize=(10, 10))\n",
    "plt.imshow(image_rgb)\n",
    "plt.axis('off')\n",
    "plt.title(\"YOLOv5 Detections (OpenCV DNN + CUDA)\")\n",
    "plt.show()\n"
   ]
  },
  {
   "cell_type": "code",
   "execution_count": null,
   "id": "3df602b4-165c-4d2c-ae6d-804b3897a81f",
   "metadata": {},
   "outputs": [],
   "source": []
  }
 ],
 "metadata": {
  "kernelspec": {
   "display_name": "Python 3 (ipykernel)",
   "language": "python",
   "name": "python3"
  },
  "language_info": {
   "codemirror_mode": {
    "name": "ipython",
    "version": 3
   },
   "file_extension": ".py",
   "mimetype": "text/x-python",
   "name": "python",
   "nbconvert_exporter": "python",
   "pygments_lexer": "ipython3",
   "version": "3.13.2"
  }
 },
 "nbformat": 4,
 "nbformat_minor": 5
}
